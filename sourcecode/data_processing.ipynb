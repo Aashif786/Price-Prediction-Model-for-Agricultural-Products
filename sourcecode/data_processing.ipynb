{
 "cells": [
  {
   "cell_type": "code",
   "execution_count": 8,
   "id": "13dee1d9",
   "metadata": {},
   "outputs": [
    {
     "name": "stdout",
     "output_type": "stream",
     "text": [
      "Found 21 CSV files.\n"
     ]
    }
   ],
   "source": [
    "import os\n",
    "import pandas as pd\n",
    "\n",
    "filtered_dir = r\"../datasets/filtered\"\n",
    "output_file = r\"../datasets/final_dataset.csv\"\n",
    "\n",
    "csv_files = [os.path.join(filtered_dir, file) for file in os.listdir(filtered_dir) if file.endswith(\".csv\")]\n",
    "print(f\"Found {len(csv_files)} CSV files.\")\n"
   ]
  },
  {
   "cell_type": "code",
   "execution_count": 10,
   "id": "62c983f0",
   "metadata": {},
   "outputs": [
    {
     "name": "stdout",
     "output_type": "stream",
     "text": [
      "Columns in : ['Date', 'Centre_Name', 'Commodity_Name', 'Price']\n",
      "Columns in : ['Date', 'Centre_Name', 'Commodity_Name', 'Price']\n",
      "Columns in : ['Date', 'Centre_Name', 'Commodity_Name', 'Price']\n",
      "Columns in : ['Date', 'Centre_Name', 'Commodity_Name', 'Price']\n",
      "Columns in : ['Date', 'Centre_Name', 'Commodity_Name', 'Price']\n",
      "Columns in : ['Date', 'Centre_Name', 'Commodity_Name', 'Price']\n",
      "Columns in : ['Date', 'Centre_Name', 'Commodity_Name', 'Price']\n",
      "Columns in : ['Date', 'Centre_Name', 'Commodity_Name', 'Price']\n",
      "Columns in : ['Date', 'Centre_Name', 'Commodity_Name', 'Price']\n",
      "Columns in : ['Date', 'Centre_Name', 'Commodity_Name', 'Price']\n",
      "Columns in : ['Date', 'Centre_Name', 'Commodity_Name', 'Price']\n",
      "Columns in : ['Date', 'Centre_Name', 'Commodity_Name', 'Price']\n",
      "Columns in : ['Date', 'Centre_Name', 'Commodity_Name', 'Price']\n",
      "Columns in : ['Date', 'Centre_Name', 'Commodity_Name', 'Price']\n",
      "Columns in : ['Date', 'Centre_Name', 'Commodity_Name', 'Price']\n",
      "Columns in : ['Date', 'Centre_Name', 'Commodity_Name', 'Price']\n",
      "Columns in : ['Date', 'Centre_Name', 'Commodity_Name', 'Price']\n",
      "Columns in : ['Date', 'Centre_Name', 'Commodity_Name', 'Price']\n",
      "Columns in : ['Date', 'Centre_Name', 'Commodity_Name', 'Price']\n",
      "Columns in : ['Date', 'Centre_Name', 'Commodity_Name', 'Price']\n",
      "Columns in : ['Date', 'Centre_Name', 'Commodity_Name', 'Price']\n"
     ]
    }
   ],
   "source": [
    "for file in csv_files:\n",
    "    df = pd.read_csv(file, encoding=\"utf-8\")\n",
    "    print(f\"Columns in : {df.columns.tolist()}\")\n"
   ]
  },
  {
   "cell_type": "code",
   "execution_count": null,
   "id": "54c53085",
   "metadata": {},
   "outputs": [],
   "source": [
    "df_list = []\n",
    "for file in csv_files:\n",
    "    df = pd.read_csv(file, encoding=\"utf-8\")\n",
    "    df.rename(columns=lambda x: x.strip().lower(), inplace=True) \n",
    "    if \"date\" in df.columns:\n",
    "        df.rename(columns={\"date\": \"Date\"}, inplace=True)\n",
    "    df_list.append(df)\n",
    "\n",
    "# Concatenate all DataFrames\n",
    "final_df = pd.concat(df_list, ignore_index=True)\n"
   ]
  },
  {
   "cell_type": "code",
   "execution_count": null,
   "id": "614aa885",
   "metadata": {},
   "outputs": [
    {
     "name": "stdout",
     "output_type": "stream",
     "text": [
      "First few rows before date conversion:\n",
      "       Date centre_name commodity_name  price\n",
      "0  15-10-08   BENGALURU        Brinjal   14.0\n",
      "1  16-10-08   BENGALURU        Brinjal   14.0\n",
      "2  17-10-08   BENGALURU        Brinjal   14.0\n",
      "3  20-10-08   BENGALURU        Brinjal   14.0\n",
      "4  21-10-08   BENGALURU        Brinjal   14.0\n",
      "5  22-10-08   BENGALURU        Brinjal   14.0\n",
      "6  23-10-08   BENGALURU        Brinjal   14.0\n",
      "7  24-10-08   BENGALURU        Brinjal   14.0\n",
      "8  27-10-08   BENGALURU        Brinjal   14.0\n",
      "9  29-10-08   BENGALURU        Brinjal   14.0\n"
     ]
    }
   ],
   "source": [
    "print(\"First few rows before date conversion:\")\n",
    "print(final_df[[\"Date\"]].head(10))\n"
   ]
  },
  {
   "cell_type": "code",
   "execution_count": 15,
   "id": "5a244e12",
   "metadata": {},
   "outputs": [
    {
     "name": "stdout",
     "output_type": "stream",
     "text": [
      "Missing Date values after conversion: 0\n"
     ]
    },
    {
     "name": "stderr",
     "output_type": "stream",
     "text": [
      "C:\\Users\\aashi\\AppData\\Local\\Temp\\ipykernel_8320\\4148042314.py:1: UserWarning: Could not infer format, so each element will be parsed individually, falling back to `dateutil`. To ensure parsing is consistent and as-expected, please specify a format.\n",
      "  final_df[\"Date\"] = pd.to_datetime(final_df[\"Date\"], errors=\"coerce\", dayfirst=True)\n"
     ]
    }
   ],
   "source": [
    "final_df[\"Date\"] = pd.to_datetime(final_df[\"Date\"], errors=\"coerce\", dayfirst=True)\n",
    "\n",
    "# Print missing date values count\n",
    "missing_dates = final_df[\"Date\"].isna().sum()\n",
    "print(f\"Missing Date values after conversion: {missing_dates}\")\n",
    "\n",
    "# Show rows where Date conversion failed\n",
    "if missing_dates > 0:\n",
    "    print(final_df.loc[final_df[\"Date\"].isna(), \"Date\"].head(10))\n"
   ]
  },
  {
   "cell_type": "code",
   "execution_count": 17,
   "id": "a8be05af",
   "metadata": {},
   "outputs": [
    {
     "name": "stdout",
     "output_type": "stream",
     "text": [
      "Data Integration Complete! Location: ../datasets/final_dataset.csv\n"
     ]
    }
   ],
   "source": [
    "\n",
    "# Sort by Date and save the final dataset\n",
    "final_df = final_df.sort_values(by=\"Date\")\n",
    "\n",
    "final_df.to_csv(output_file, index=False, encoding=\"utf-8\")\n",
    "print(\"Data Integration Complete! Location:\", output_file)\n"
   ]
  }
 ],
 "metadata": {
  "kernelspec": {
   "display_name": "projectenv",
   "language": "python",
   "name": "python3"
  },
  "language_info": {
   "codemirror_mode": {
    "name": "ipython",
    "version": 3
   },
   "file_extension": ".py",
   "mimetype": "text/x-python",
   "name": "python",
   "nbconvert_exporter": "python",
   "pygments_lexer": "ipython3",
   "version": "3.11.9"
  }
 },
 "nbformat": 4,
 "nbformat_minor": 5
}
