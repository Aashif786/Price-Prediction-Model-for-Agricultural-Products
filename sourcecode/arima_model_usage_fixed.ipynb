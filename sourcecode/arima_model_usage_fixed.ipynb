{
 "cells": [
  {
   "cell_type": "markdown",
   "metadata": {},
   "source": [
    "# ARIMA Model Usage\n",
    "This notebook demonstrates how to load a saved ARIMA model from a pickle file and use it to forecast future values in a time series."
   ]
  },
  {
   "cell_type": "code",
   "execution_count": null,
   "metadata": {},
   "outputs": [],
   "source": [
    "import pickle\n",
    "import matplotlib.pyplot as plt\n"
   ]
  },
  {
   "cell_type": "markdown",
   "metadata": {},
   "source": [
    "## Load the ARIMA model from the pickle file"
   ]
  },
  {
   "cell_type": "code",
   "execution_count": null,
   "metadata": {},
   "outputs": [],
   "source": [
    "model_path = \"sourcecode/arima_model_lab.pkl\"\n",
    "with open(model_path, \"rb\") as model_file:\n",
    "    loaded_model = pickle.load(model_file)\n",
    "print(\"Model loaded successfully\")"
   ]
  },
  {
   "cell_type": "markdown",
   "metadata": {},
   "source": [
    "## Forecast future values\n",
    "Forecast the next 30 time steps using the loaded model."
   ]
  },
  {
   "cell_type": "code",
   "execution_count": null,
   "metadata": {},
   "outputs": [],
   "source": [
    "forecast_steps = 30\n",
    "forecast = loaded_model.forecast(steps=forecast_steps)\n",
    "print(f\"Forecast for next {forecast_steps} steps:\")\n",
    "print(forecast)"
   ]
  },
  {
   "cell_type": "markdown",
   "metadata": {},
   "source": [
    "## Plot the forecast\n",
    "Assuming you have your original time series data loaded as `time_series_data`, plot the historical data and forecast."
   ]
  },
  {
   "cell_type": "code",
   "execution_count": null,
   "metadata": {},
   "outputs": [],
   "source": [
    "# Example: Load your original time series data here\n",
    "# import pandas as pd\n",
    "# time_series_data = pd.read_csv('path_to_your_data.csv')['price']\n",
    "\n",
    "# For demonstration, let's create a dummy time series (replace with your actual data)\n",
    "import numpy as np\n",
    "time_series_data = np.arange(100)  # Dummy data representing historical time series\n",
    "\n",
    "plt.figure(figsize=(12, 6))\n",
    "plt.plot(time_series_data, label='Historical Data')\n",
    "plt.plot(range(len(time_series_data), len(time_series_data) + forecast_steps), forecast, label='Forecast')\n",
    "plt.legend()\n",
    "plt.title('ARIMA Model Forecast')\n",
    "plt.show()"
   ]
  }
 ],
 "metadata": {
  "kernelspec": {
   "display_name": "Python 3",
   "language": "python",
   "name": "python3"
  },
  "language_info": {
   "codemirror_mode": {
    "name": "ipython",
    "version": 3
   },
   "file_extension": ".py",
   "mimetype": "text/x-python",
   "name": "python",
   "nbconvert_exporter": "python",
   "pygments_lexer": "ipython3",
   "version": "3.8.8"
  }
 },
 "nbformat": 4,
 "nbformat_minor": 5
}
</create_file>
